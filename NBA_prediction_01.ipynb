{
 "cells": [
  {
   "cell_type": "code",
   "execution_count": null,
   "id": "35d51b1c-c4a0-458f-af66-2f8e56eecd2a",
   "metadata": {},
   "outputs": [],
   "source": [
    "import pandas as pd \n",
    "import numpy as np"
   ]
  },
  {
   "cell_type": "code",
   "execution_count": null,
   "id": "fb7e83d4-253e-47a9-8777-781e69e45e25",
   "metadata": {},
   "outputs": [],
   "source": [
    "# Set the option to display all columns\n",
    "pd.set_option('display.max_columns', None)"
   ]
  },
  {
   "cell_type": "code",
   "execution_count": null,
   "id": "bf050e5c-2ec0-4e05-8439-8be4e586d00d",
   "metadata": {},
   "outputs": [],
   "source": [
    "\n",
    "# Download the latest version\n",
    "path = \"/Users/oaitran/Desktop/Phd/Fall_2025/DS_7200/final_project/DS_7200_final_project/48/\"\n",
    "file_1 = \"Player Career Info.csv\"\n",
    "file_2 = \"Player Totals.csv\"\n",
    "file_3 = \"Player Award Shares.csv\"\n",
    "file_4 = \n",
    "file_5 =\n",
    "\n"
   ]
  },
  {
   "cell_type": "code",
   "execution_count": null,
   "id": "f269beba-0501-4784-8cd4-0706b1dccabb",
   "metadata": {},
   "outputs": [],
   "source": [
    "player_career_info = pd.read_csv(path + file_1)\n",
    "print(\"This is player_career_info columns:\", player_career_info.columns)\n",
    "\n",
    "player_total = pd.read_csv(path + file_2)\n",
    "print(\"This is player_total columns:\", player_total.columns)\n"
   ]
  },
  {
   "cell_type": "code",
   "execution_count": null,
   "id": "e5a51b27-2c3e-45b7-913d-755676ebc6ec",
   "metadata": {},
   "outputs": [],
   "source": [
    "player_career_info.head()"
   ]
  },
  {
   "cell_type": "code",
   "execution_count": null,
   "id": "7af24b10-6987-4a6f-b5e7-9f9ef5578b63",
   "metadata": {},
   "outputs": [],
   "source": [
    "player_total.head()"
   ]
  },
  {
   "cell_type": "code",
   "execution_count": null,
   "id": "c7742372-26cc-410d-aa90-db9654336f3c",
   "metadata": {},
   "outputs": [],
   "source": []
  },
  {
   "cell_type": "code",
   "execution_count": null,
   "id": "b985c2f8-f17b-4e67-a232-e8ee60e2ba1a",
   "metadata": {},
   "outputs": [],
   "source": []
  },
  {
   "cell_type": "code",
   "execution_count": null,
   "id": "071fdce2-d0d8-43ab-88c9-38c6299f1fb7",
   "metadata": {},
   "outputs": [],
   "source": []
  }
 ],
 "metadata": {
  "kernelspec": {
   "display_name": "Python [conda env:base] *",
   "language": "python",
   "name": "conda-base-py"
  },
  "language_info": {
   "codemirror_mode": {
    "name": "ipython",
    "version": 3
   },
   "file_extension": ".py",
   "mimetype": "text/x-python",
   "name": "python",
   "nbconvert_exporter": "python",
   "pygments_lexer": "ipython3",
   "version": "3.13.5"
  }
 },
 "nbformat": 4,
 "nbformat_minor": 5
}
