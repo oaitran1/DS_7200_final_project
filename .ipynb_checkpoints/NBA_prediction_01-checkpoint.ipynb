{
 "cells": [
  {
   "cell_type": "markdown",
   "id": "679ce59b-cd54-476d-b78e-29b797fc2723",
   "metadata": {},
   "source": [
    "# Introduction\n",
    "\n",
    "The following datasets coming from Kaggle site. We pull the data using the following prodivded codes: \n",
    "\n",
    "import kagglehub\n",
    "\n",
    "#### Download latest version\n",
    "path = kagglehub.dataset_download(\"sumitrodatta/nba-aba-baa-stats\")\n",
    "\n",
    "print(\"Path to dataset files:\", path)"
   ]
  },
  {
   "cell_type": "code",
   "execution_count": null,
   "id": "35d51b1c-c4a0-458f-af66-2f8e56eecd2a",
   "metadata": {},
   "outputs": [],
   "source": [
    "import pandas as pd \n",
    "import numpy as np\n",
    "from functools import reduce"
   ]
  },
  {
   "cell_type": "code",
   "execution_count": null,
   "id": "fb7e83d4-253e-47a9-8777-781e69e45e25",
   "metadata": {},
   "outputs": [],
   "source": [
    "# Set the option to display all columns\n",
    "pd.set_option('display.max_columns', None)\n",
    "pd.set_option('display.max_rows', None)\n"
   ]
  },
  {
   "cell_type": "code",
   "execution_count": null,
   "id": "bf050e5c-2ec0-4e05-8439-8be4e586d00d",
   "metadata": {},
   "outputs": [],
   "source": [
    "\n",
    "# Download the latest version\n",
    "path = \"/Users/oaitran/Desktop/Phd/Fall_2025/DS_7200/final_project/DS_7200_final_project/48/\"\n",
    "file_1 = \"Player Career Info.csv\"\n",
    "file_2 = \"Player Totals.csv\"\n",
    "file_3 = \"Player Award Shares.csv\"\n",
    "file_4 = \"Player Per Game.csv\"\n",
    "file_5 = \"Player Play By Play.csv\"\n",
    "file_6 = \"Player Season Info.csv\"\n",
    "file_7 = \"Player Shooting.csv\"\n",
    "\n",
    "\n"
   ]
  },
  {
   "cell_type": "markdown",
   "id": "d78fe494-980f-436d-9680-f4277d0b66a7",
   "metadata": {},
   "source": [
    "player_career_info — Do not use this dataset, as it is not useful and cannot be merged with other datasets.\n",
    "\n",
    "From below we should have merge keys as: season, player name, player ID to ensure 1-1 merge"
   ]
  },
  {
   "cell_type": "code",
   "execution_count": null,
   "id": "f269beba-0501-4784-8cd4-0706b1dccabb",
   "metadata": {},
   "outputs": [],
   "source": [
    "player_career_info = pd.read_csv(path + file_1)\n",
    "print(\"This is player_career_info columns:\", player_career_info.columns)\n",
    "\n",
    "player_total = pd.read_csv(path + file_2)\n",
    "player_total = player_total.sort_values(by=[\"season\", \"player\", \"player_id\"], ascending=[True,True,True])\n",
    "print(\"This is player_total columns:\", player_total.columns)\n",
    "\n",
    "player_Award_Shares = pd.read_csv(path + file_3)\n",
    "player_Award_Shares = player_Award_Shares.sort_values(by=[\"season\",\"award\", \"player\", \"player_id\"], ascending=[True,True,True,True])\n",
    "print(\"This is player_Award_Shares columns:\", player_Award_Shares.columns)\n",
    "\n",
    "player_per_game = pd.read_csv(path + file_4)\n",
    "player_per_game = player_per_game.sort_values(by=[\"season\", \"player\", \"player_id\"], ascending=[True,True,True])\n",
    "print(\"This is player_per_game columns:\", player_per_game.columns)\n",
    "\n",
    "player_play_by_play = pd.read_csv(path + file_5)\n",
    "player_play_by_play = player_play_by_play.sort_values(by=[\"season\", \"player\", \"player_id\"], ascending=[True,True,True])\n",
    "print(\"This is player_play_by_play columns:\", player_play_by_play.columns)\n",
    "\n",
    "player_season_info = pd.read_csv(path + file_6)\n",
    "player_season_info = player_season_info.sort_values(by=[\"season\", \"player\", \"player_id\"], ascending=[True,True,True])\n",
    "print(\"This is player_Award_Shares columns:\", player_season_info.columns)\n",
    "\n",
    "player_shooting = pd.read_csv(path + file_7)\n",
    "player_shooting = player_shooting.sort_values(by=[\"season\", \"player\", \"player_id\"], ascending=[True,True,True])\n",
    "print(\"This is player_per_game columns:\", player_shooting.columns)\n"
   ]
  },
  {
   "cell_type": "code",
   "execution_count": null,
   "id": "e5a51b27-2c3e-45b7-913d-755676ebc6ec",
   "metadata": {},
   "outputs": [],
   "source": [
    "player_career_info.head()"
   ]
  },
  {
   "cell_type": "code",
   "execution_count": null,
   "id": "7af24b10-6987-4a6f-b5e7-9f9ef5578b63",
   "metadata": {
    "scrolled": true
   },
   "outputs": [],
   "source": [
    "player_total.head(400)"
   ]
  },
  {
   "cell_type": "code",
   "execution_count": null,
   "id": "c7742372-26cc-410d-aa90-db9654336f3c",
   "metadata": {
    "scrolled": true
   },
   "outputs": [],
   "source": [
    "player_Award_Shares.head(400)"
   ]
  },
  {
   "cell_type": "code",
   "execution_count": null,
   "id": "b985c2f8-f17b-4e67-a232-e8ee60e2ba1a",
   "metadata": {},
   "outputs": [],
   "source": [
    "player_per_game.head()"
   ]
  },
  {
   "cell_type": "code",
   "execution_count": null,
   "id": "ab56178a-64e3-4c8d-a351-9afb0803708b",
   "metadata": {},
   "outputs": [],
   "source": [
    "player_shooting.head()"
   ]
  },
  {
   "cell_type": "code",
   "execution_count": null,
   "id": "071fdce2-d0d8-43ab-88c9-38c6299f1fb7",
   "metadata": {},
   "outputs": [],
   "source": [
    "player_play_by_play.head()"
   ]
  },
  {
   "cell_type": "code",
   "execution_count": null,
   "id": "a100c0dc-bd39-4d97-a245-4791d6fda78c",
   "metadata": {},
   "outputs": [],
   "source": [
    "player_season_info.head()"
   ]
  },
  {
   "cell_type": "code",
   "execution_count": null,
   "id": "136bef3c-340f-4a53-a5a5-d05e25de2b25",
   "metadata": {},
   "outputs": [],
   "source": [
    "# rows and columns\n",
    "print(\"This is player_career_info shape:\", player_career_info.shape)\n",
    "\n",
    "print(\"This is player_total columns:\", player_total.shape)\n",
    "\n",
    "print(\"This is player_Award_Shares columns:\", player_Award_Shares.shape)\n",
    "\n",
    "print(\"This is player_per_game columns:\", player_per_game.shape)\n",
    "\n",
    "print(\"This is player_play_by_play columns:\", player_play_by_play.shape)\n",
    "\n",
    "print(\"This is player_Award_Shares columns:\", player_season_info.shape)\n",
    "\n",
    "print(\"This is player_per_game columns:\", player_shooting.shape)\n"
   ]
  },
  {
   "cell_type": "code",
   "execution_count": null,
   "id": "f49acca0-62c1-402d-850d-ea295fcc6edf",
   "metadata": {},
   "outputs": [],
   "source": [
    "player_total = player_total.drop_duplicates(subset=[\"season\",\"lg\", \"player\", \"player_id\", \"team\"])\n",
    "player_total.shape"
   ]
  },
  {
   "cell_type": "code",
   "execution_count": null,
   "id": "9b619bc3-8d95-4346-a7d9-23ab4f2328e3",
   "metadata": {},
   "outputs": [],
   "source": [
    "player_Award_Shares = player_Award_Shares.drop_duplicates(subset=[\"season\",\"award\", \"player\", \"player_id\"])\n",
    "player_Award_Shares.shape"
   ]
  },
  {
   "cell_type": "code",
   "execution_count": null,
   "id": "55e03fbf-1339-43f2-8f42-cc67cf8943b5",
   "metadata": {},
   "outputs": [],
   "source": []
  },
  {
   "cell_type": "code",
   "execution_count": null,
   "id": "f56bc6c3-301c-4118-beb0-54a08a19cdae",
   "metadata": {},
   "outputs": [],
   "source": []
  },
  {
   "cell_type": "code",
   "execution_count": null,
   "id": "6dc3feff-22b4-46ae-911d-ae7c791107fc",
   "metadata": {},
   "outputs": [],
   "source": []
  },
  {
   "cell_type": "code",
   "execution_count": null,
   "id": "7c0406e8-49a8-48a5-b1e0-8a4c4ad664b3",
   "metadata": {},
   "outputs": [],
   "source": []
  },
  {
   "cell_type": "code",
   "execution_count": null,
   "id": "3eac9325-bc17-457c-8a32-0e7ddcf8ac92",
   "metadata": {},
   "outputs": [],
   "source": []
  },
  {
   "cell_type": "code",
   "execution_count": null,
   "id": "83c5cc68-bb4e-4c38-9564-9cd67be57640",
   "metadata": {},
   "outputs": [],
   "source": []
  },
  {
   "cell_type": "code",
   "execution_count": null,
   "id": "5b995ad0-b255-4973-9686-4482284ccf66",
   "metadata": {},
   "outputs": [],
   "source": []
  },
  {
   "cell_type": "code",
   "execution_count": null,
   "id": "36c2c151-5c0f-4715-8620-0f1422a1d6e9",
   "metadata": {},
   "outputs": [],
   "source": [
    "df = [player_total, player_Award_Shares, player_per_game, player_play_by_play, player_season_info, player_shooting]"
   ]
  },
  {
   "cell_type": "code",
   "execution_count": null,
   "id": "fc95be27-901f-4027-8b91-5479250a4e7f",
   "metadata": {},
   "outputs": [],
   "source": [
    "def common_columns(datasets):\n",
    "    \"\"\"\n",
    "    Find column names that exist in all datasets. This helps with merging df\n",
    "    \n",
    "    Parameters:\n",
    "        datasets (list): List of pandas DataFrames.\n",
    "    \n",
    "    Returns:\n",
    "        set: Columns common to all datasets.\n",
    "    \"\"\"\n",
    "    if not datasets:\n",
    "        return set()\n",
    "    \n",
    "    col_sets = [set(df.columns) for df in datasets]\n",
    "    return set.intersection(*col_sets)"
   ]
  },
  {
   "cell_type": "code",
   "execution_count": null,
   "id": "2cb6b3e3-add6-46f1-aea0-91cded5a64ec",
   "metadata": {},
   "outputs": [],
   "source": [
    "common_columns(df)"
   ]
  },
  {
   "cell_type": "markdown",
   "id": "1f137b49-9f29-4b4c-8b9a-697e6230d35e",
   "metadata": {},
   "source": [
    "def merge_list_df(base_df, other_dfs, on, how=\"inner\", show=True):\n",
    "    \"\"\"\n",
    "    Merging multiple dataset\n",
    "\n",
    "    parameters:\n",
    "        base_df - base dataset we aim to merge \n",
    "        other_dfs - list of df to merge \n",
    "        on - join key\n",
    "        how - type of merge, options are inner, outer, left, right. Default is inner\n",
    "        show - print the result at each stage\n",
    "\n",
    "    return:\n",
    "        final merged dataframe\n",
    "    \"\"\"\n",
    "\n",
    "    merged = base_df.copy()\n",
    "    stages = [(\"Base DataFrame\", merged.copy())]\n",
    "    \n",
    "    for i, df in enumerate(other_dfs, start=1):\n",
    "        merged = merged.merge(\n",
    "            df, on=on, how=how, suffixes=(\"\", f\"_df{i}\")\n",
    "        )\n",
    "        stages.append((f\"After merging with df{i}\", merged.copy()))\n",
    "        if show:\n",
    "            print(f\"\\n--- Stage {i}: After merging with df{i} ---\")\n",
    "            print(merged.head())\n",
    "    \n",
    "    return merged, stages\n",
    "\n",
    "\n",
    "    "
   ]
  },
  {
   "cell_type": "markdown",
   "id": "088e1040-0177-4b85-8ee4-3bf54c8ed987",
   "metadata": {},
   "source": [
    "This is player_total columns: (32606, 33)\n",
    "This is player_career_info shape: (5313, 11)\n",
    "\n",
    "This is player_Award_Shares columns: (3398, 10)\n",
    "This is player_per_game columns: (32606, 32)\n",
    "This is player_play_by_play columns: (17521, 26)\n",
    "This is player_Award_Shares columns: (32606, 8)\n",
    "This is player_per_game columns: (17521, 32)"
   ]
  },
  {
   "cell_type": "code",
   "execution_count": null,
   "id": "e1499776-f969-40ee-a424-79e6b4f4a72e",
   "metadata": {},
   "outputs": [],
   "source": [
    "common_columns([player_total,player_career_info])"
   ]
  },
  {
   "cell_type": "code",
   "execution_count": null,
   "id": "a509b433-3771-4134-8ff6-ffa07e6a277e",
   "metadata": {},
   "outputs": [],
   "source": []
  },
  {
   "cell_type": "code",
   "execution_count": null,
   "id": "0e74e93b-4d01-423e-b75b-0d18e7a15465",
   "metadata": {},
   "outputs": [],
   "source": []
  },
  {
   "cell_type": "code",
   "execution_count": null,
   "id": "248167c0-b8e4-4e8b-adfc-d3ef2f8c1935",
   "metadata": {},
   "outputs": [],
   "source": []
  },
  {
   "cell_type": "code",
   "execution_count": null,
   "id": "53eb49f4-549e-4fb6-b72c-4aaa26b3ba56",
   "metadata": {},
   "outputs": [],
   "source": []
  },
  {
   "cell_type": "code",
   "execution_count": null,
   "id": "748aeec9-e55a-49ed-80d2-86af6d38cb55",
   "metadata": {},
   "outputs": [],
   "source": [
    "df1= player_total.merge(player_career_info,on=[\"player\", \"player_id\", \"season\"], how=\"left\")"
   ]
  },
  {
   "cell_type": "code",
   "execution_count": null,
   "id": "b7e33862-f884-4366-84e0-64358e7ee925",
   "metadata": {},
   "outputs": [],
   "source": [
    "df1.tail(200)"
   ]
  },
  {
   "cell_type": "code",
   "execution_count": null,
   "id": "45c14caf-d1d5-40bc-8a6e-07dfa2c94d32",
   "metadata": {
    "scrolled": true
   },
   "outputs": [],
   "source": [
    "merge_dfs = merge_list_df(df, on=[\"player\", \"player_id\"], how=\"left\", show=True)\n",
    "\n",
    "\n"
   ]
  },
  {
   "cell_type": "code",
   "execution_count": null,
   "id": "dfe151c9-27b7-403a-8806-98559f93e17b",
   "metadata": {},
   "outputs": [],
   "source": [
    "merge_dfs.head()"
   ]
  },
  {
   "cell_type": "code",
   "execution_count": null,
   "id": "50e82d8e-f007-4177-a69b-274743d06303",
   "metadata": {},
   "outputs": [],
   "source": []
  },
  {
   "cell_type": "code",
   "execution_count": null,
   "id": "dfd11257-9cbc-4274-8e6d-ca977497edfb",
   "metadata": {},
   "outputs": [],
   "source": []
  },
  {
   "cell_type": "code",
   "execution_count": null,
   "id": "cb9a5677-3690-4945-b437-9c483a58f9f4",
   "metadata": {},
   "outputs": [],
   "source": []
  },
  {
   "cell_type": "code",
   "execution_count": null,
   "id": "95a2f664-04c0-424b-a32f-6d2118b855e0",
   "metadata": {},
   "outputs": [],
   "source": []
  },
  {
   "cell_type": "code",
   "execution_count": null,
   "id": "e08eccae-f66a-480c-831a-38aa65284f12",
   "metadata": {},
   "outputs": [],
   "source": []
  },
  {
   "cell_type": "code",
   "execution_count": null,
   "id": "83e8cc6d-da61-49dd-87fc-4e943fbb39b9",
   "metadata": {},
   "outputs": [],
   "source": []
  },
  {
   "cell_type": "code",
   "execution_count": null,
   "id": "90286fb5-3173-4ae5-b4d0-a6d7c05197d5",
   "metadata": {},
   "outputs": [],
   "source": []
  },
  {
   "cell_type": "code",
   "execution_count": null,
   "id": "20bec44b-cbd5-4505-ad81-31f5206794e4",
   "metadata": {},
   "outputs": [],
   "source": []
  },
  {
   "cell_type": "code",
   "execution_count": null,
   "id": "89381e1b-4d80-435b-a490-83315b723da3",
   "metadata": {},
   "outputs": [],
   "source": []
  },
  {
   "cell_type": "code",
   "execution_count": null,
   "id": "f2b3e74d-e346-4266-bed3-b7e3bc543ef1",
   "metadata": {},
   "outputs": [],
   "source": []
  }
 ],
 "metadata": {
  "kernelspec": {
   "display_name": "Python [conda env:base] *",
   "language": "python",
   "name": "conda-base-py"
  },
  "language_info": {
   "codemirror_mode": {
    "name": "ipython",
    "version": 3
   },
   "file_extension": ".py",
   "mimetype": "text/x-python",
   "name": "python",
   "nbconvert_exporter": "python",
   "pygments_lexer": "ipython3",
   "version": "3.13.5"
  }
 },
 "nbformat": 4,
 "nbformat_minor": 5
}
